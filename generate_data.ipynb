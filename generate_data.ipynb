{
 "cells": [
  {
   "cell_type": "code",
   "execution_count": 1,
   "metadata": {},
   "outputs": [],
   "source": [
    "from itertools import combinations\n",
    "import random\n",
    "import numpy as np"
   ]
  },
  {
   "cell_type": "code",
   "execution_count": 2,
   "metadata": {},
   "outputs": [],
   "source": [
    "train_pth = 'data/split_data/train.txt'\n",
    "test_pth = 'data/split_data/test.txt'\n",
    "\n",
    "train_out_pth = ('data/processed_data/train_x.npy', 'data/processed_data/train_y.npy')\n",
    "test_out_pth = ('data/processed_data/test_x.npy', 'data/processed_data/test_y.npy')\n",
    "\n",
    "max_unique = 18\n",
    "max_len = 32\n",
    "output_size = 26\n",
    "max_ret =50\n",
    "\n",
    "random.seed(42)"
   ]
  },
  {
   "cell_type": "code",
   "execution_count": 3,
   "metadata": {},
   "outputs": [],
   "source": [
    "# generate all possible combinations in words of 1-max_unique size\n",
    "def get_permutations(n):\n",
    "    l = [x for x in range(n)]\n",
    "\n",
    "    all_combs = []\n",
    "\n",
    "    for s in range(1, n+1):\n",
    "        combs = combinations(l, s)\n",
    "        comb_list = [x for x in combs]\n",
    "        all_combs += comb_list\n",
    "\n",
    "    return all_combs\n",
    "\n",
    "all_combs = [None,]\n",
    "for n in range(1,max_unique+1):\n",
    "    all_combs.append(get_permutations(n))"
   ]
  },
  {
   "cell_type": "code",
   "execution_count": 4,
   "metadata": {},
   "outputs": [],
   "source": [
    "def apply_opr(word, opr):\n",
    "    enc_word = [0 for _ in range(max_len)]\n",
    "    label = [0 for _ in range(output_size)]\n",
    "    letters = list(dict.fromkeys(word))\n",
    "\n",
    "    for o in opr:\n",
    "        m_letter = letters[o]\n",
    "        label[ord(m_letter) - ord('a')] = 1\n",
    "        word = word.replace(m_letter, '_')\n",
    "\n",
    "    for i,l in enumerate(word):\n",
    "        if l == '_':\n",
    "            enc_word[i] = 27\n",
    "        else:\n",
    "            enc_word[i] = ord(l) - ord('a') + 1\n",
    "\n",
    "    return enc_word, label"
   ]
  },
  {
   "cell_type": "code",
   "execution_count": 5,
   "metadata": {},
   "outputs": [],
   "source": [
    "def process_word(word):\n",
    "    letters = list(set(word))\n",
    "    combs = all_combs[len(letters)]\n",
    "    random.shuffle(combs)\n",
    "    combs = combs[:min(len(combs), max_ret)]\n",
    "\n",
    "    x = []\n",
    "    y = []\n",
    "    for opr in combs:\n",
    "        enc_word, label = apply_opr(word, opr)\n",
    "        x.append(enc_word)\n",
    "        y.append(label)\n",
    "\n",
    "\n",
    "    return x,y"
   ]
  },
  {
   "cell_type": "code",
   "execution_count": 6,
   "metadata": {},
   "outputs": [],
   "source": [
    "def process_words(words):\n",
    "    allx = []\n",
    "    ally = []\n",
    "\n",
    "    for w in words:\n",
    "        x, y = process_word(w)\n",
    "        allx += x\n",
    "        ally += y\n",
    "\n",
    "    xymap = {}\n",
    "    for x,y in zip(allx, ally):\n",
    "        x = tuple(x)\n",
    "        if x not in xymap:\n",
    "            xymap[x] = [y]\n",
    "        else:\n",
    "            xymap[x].append(y)\n",
    "\n",
    "    allx = []\n",
    "    ally = []\n",
    "    for x, ys in xymap.items():\n",
    "        y = list(np.array(ys).mean(axis=0))\n",
    "        \n",
    "        for _ in ys:\n",
    "            allx.append(list(x))\n",
    "            ally.append(y)\n",
    "\n",
    "    return allx, ally"
   ]
  },
  {
   "cell_type": "code",
   "execution_count": 7,
   "metadata": {},
   "outputs": [],
   "source": [
    "def process_dataset(path, out_path):\n",
    "    with open(path) as f:\n",
    "        words = f.read().splitlines()\n",
    "\n",
    "    allx, ally = process_words(words)\n",
    "\n",
    "    np.save(out_path[0], np.array(allx))\n",
    "    np.save(out_path[1], np.array(ally))"
   ]
  },
  {
   "cell_type": "code",
   "execution_count": 8,
   "metadata": {},
   "outputs": [],
   "source": [
    "process_dataset(train_pth, train_out_pth)\n",
    "process_dataset(test_pth, test_out_pth)"
   ]
  }
 ],
 "metadata": {
  "kernelspec": {
   "display_name": "Python 3",
   "language": "python",
   "name": "python3"
  },
  "language_info": {
   "codemirror_mode": {
    "name": "ipython",
    "version": 3
   },
   "file_extension": ".py",
   "mimetype": "text/x-python",
   "name": "python",
   "nbconvert_exporter": "python",
   "pygments_lexer": "ipython3",
   "version": "3.10.12"
  }
 },
 "nbformat": 4,
 "nbformat_minor": 2
}
